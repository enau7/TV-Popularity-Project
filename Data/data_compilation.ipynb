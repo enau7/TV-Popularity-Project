{
 "cells": [
  {
   "cell_type": "code",
   "execution_count": 2,
   "metadata": {},
   "outputs": [],
   "source": [
    "# Run this first\n",
    "\n",
    "import pandas as pd\n",
    "import time\n",
    "from IPython.display import clear_output"
   ]
  },
  {
   "cell_type": "code",
   "execution_count": 45,
   "metadata": {},
   "outputs": [],
   "source": [
    "streaming_services = {'hulu':\"data/hulu_titles.csv\", \\\n",
    "                      'amazon_prime':\"data/amazon_prime_titles.csv\", \\\n",
    "                      'netflix':\"data/netflix_titles.csv\", \\\n",
    "                      'disney_plus':\"data/disney_plus_titles.csv\"}\n",
    "\n",
    "df_list = list()\n",
    "\n",
    "for ss in streaming_services.keys():\n",
    "    ss_df = pd.read_csv(streaming_services[ss])\n",
    "    ss_df['streaming_service'] = ss\n",
    "    df_list.append(ss_df)\n",
    "\n",
    "df = pd.concat(df_list)\n",
    "\n",
    "df.to_csv(\"data/streaming_titles_prelim.csv\",index=False)\n"
   ]
  },
  {
   "cell_type": "code",
   "execution_count": 4,
   "metadata": {},
   "outputs": [
    {
     "name": "stdout",
     "output_type": "stream",
     "text": [
      "start\n"
     ]
    }
   ],
   "source": [
    "import requests\n",
    "print('start')\n",
    "rapid_api_key = '5d5be84e09msh3c94417204a3bbbp149df0jsn7dfa2269ae85'\n",
    "def imdbpuller(rapid_api_key,title,year):\n",
    "    url = \"https://mdblist.p.rapidapi.com/\"\n",
    "\n",
    "    querystring = {\"s\":title,\"y\":year}\n",
    "\n",
    "    headers = {\n",
    "        \"X-RapidAPI-Key\": rapid_api_key,\n",
    "        \"X-RapidAPI-Host\": \"mdblist.p.rapidapi.com\"\n",
    "    }\n",
    "\n",
    "    response = requests.request(\"GET\", url, headers=headers, params=querystring)\n",
    "\n",
    "    return response\n"
   ]
  },
  {
   "cell_type": "code",
   "execution_count": 48,
   "metadata": {},
   "outputs": [
    {
     "name": "stdout",
     "output_type": "stream",
     "text": [
      "{'id': 'tt0903747', 'title': 'Breaking Bad', 'year': 2008, 'score': 92, 'score_average': 92, 'type': 'show', 'imdbid': 'tt0903747', 'tmdbid': 1396, 'traktid': 1388, 'tvdbid': 81189}\n"
     ]
    }
   ],
   "source": [
    "print(imdbpuller(rapid_api_key,\"Breaking Bad\",2008).json()[\"search\"][0])"
   ]
  },
  {
   "cell_type": "code",
   "execution_count": 70,
   "metadata": {},
   "outputs": [],
   "source": [
    "# ***DO NOT RUN***\n",
    "# unless you want to restart computing streaming_titles.csv (will take a very long time)\n",
    "# if you accidently run, just don't commit to main\n",
    "\n",
    "df['score'] = None\n",
    "df['imdbid'] = None\n",
    "df.to_csv(\"data/streaming_titles.csv\",index=False)\n"
   ]
  },
  {
   "cell_type": "code",
   "execution_count": 9,
   "metadata": {},
   "outputs": [
    {
     "name": "stdout",
     "output_type": "stream",
     "text": [
      "Finished!\n"
     ]
    }
   ],
   "source": [
    "df2 = pd.read_csv(\"data/streaming_titles.csv\",dtype={'score' : float, 'imdbid' : 'string'})\n",
    "\n",
    "index = df2['score'].last_valid_index()\n",
    "if index == None:\n",
    "    index = 0\n",
    "\n",
    "count = 0\n",
    "for k in range(index,len(df2)):\n",
    "    row = df2.iloc[k]\n",
    "    title = row[\"title\"]\n",
    "    year = row[\"release_year\"]\n",
    "    responded = False\n",
    "    respcount = 0\n",
    "\n",
    "    while not responded:\n",
    "        if respcount >= 10:\n",
    "            clear_output()\n",
    "            print(\"no response for {title}\".format(title=title))\n",
    "            break\n",
    "        currjson = imdbpuller(rapid_api_key,title,year).json()\n",
    "        responded = currjson['response']\n",
    "        if not responded:\n",
    "            time.sleep(0.25)\n",
    "        respcount += 1\n",
    "    if not responded:\n",
    "        continue\n",
    "\n",
    "    madeit = False\n",
    "    for queries in currjson['search']:\n",
    "        if queries['title'] == title:\n",
    "            df2.at[k,\"score\"] = queries[\"score\"]\n",
    "            df2.at[k,\"imdbid\"] = queries[\"imdbid\"]\n",
    "            clear_output()\n",
    "            print('success for {title}'.format(title=title))\n",
    "            madeit = True\n",
    "            break\n",
    "    if not madeit:\n",
    "        clear_output()\n",
    "        print(\"failed for {title}\".format(title=title))\n",
    "\n",
    "    count += 1\n",
    "\n",
    "    if count%20 == 0:\n",
    "        clear_output()\n",
    "        print(\"writing to csv... {index}\".format(index=k))\n",
    "        df2.to_csv(\"data/streaming_titles.csv\",index=False)\n",
    "\n",
    "clear_output()\n",
    "print(\"writing to csv...\")\n",
    "df2.to_csv(\"data/streaming_titles.csv\",index=False)\n",
    "clear_output()\n",
    "print(\"Finished!\")\n",
    "\n"
   ]
  }
 ],
 "metadata": {
  "kernelspec": {
   "display_name": "Python 3",
   "language": "python",
   "name": "python3"
  },
  "language_info": {
   "codemirror_mode": {
    "name": "ipython",
    "version": 3
   },
   "file_extension": ".py",
   "mimetype": "text/x-python",
   "name": "python",
   "nbconvert_exporter": "python",
   "pygments_lexer": "ipython3",
   "version": "3.9.4"
  },
  "orig_nbformat": 4,
  "vscode": {
   "interpreter": {
    "hash": "31f2aee4e71d21fbe5cf8b01ff0e069b9275f58929596ceb00d14d90e3e16cd6"
   }
  }
 },
 "nbformat": 4,
 "nbformat_minor": 2
}
