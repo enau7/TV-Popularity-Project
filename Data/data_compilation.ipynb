{
 "cells": [
  {
   "cell_type": "code",
   "execution_count": 44,
   "metadata": {},
   "outputs": [],
   "source": [
    "# Run this first\n",
    "\n",
    "import pandas as pd\n",
    "import time\n",
    "from IPython.display import clear_output"
   ]
  },
  {
   "cell_type": "code",
   "execution_count": 45,
   "metadata": {},
   "outputs": [],
   "source": [
    "streaming_services = {'hulu':\"data/hulu_titles.csv\", \\\n",
    "                      'amazon_prime':\"data/amazon_prime_titles.csv\", \\\n",
    "                      'netflix':\"data/netflix_titles.csv\", \\\n",
    "                      'disney_plus':\"data/disney_plus_titles.csv\"}\n",
    "\n",
    "df_list = list()\n",
    "\n",
    "for ss in streaming_services.keys():\n",
    "    ss_df = pd.read_csv(streaming_services[ss])\n",
    "    ss_df['streaming_service'] = ss\n",
    "    df_list.append(ss_df)\n",
    "\n",
    "df = pd.concat(df_list)\n",
    "\n",
    "df.to_csv(\"data/streaming_titles_prelim.csv\",index=False)\n"
   ]
  },
  {
   "cell_type": "code",
   "execution_count": 47,
   "metadata": {},
   "outputs": [
    {
     "name": "stdout",
     "output_type": "stream",
     "text": [
      "start\n"
     ]
    }
   ],
   "source": [
    "import requests\n",
    "print('start')\n",
    "rapid_api_key = '5d5be84e09msh3c94417204a3bbbp149df0jsn7dfa2269ae85'\n",
    "def imdbpuller(rapid_api_key,title,year):\n",
    "    url = \"https://mdblist.p.rapidapi.com/\"\n",
    "\n",
    "    querystring = {\"s\":title,\"y\":year}\n",
    "\n",
    "    headers = {\n",
    "        \"X-RapidAPI-Key\": rapid_api_key,\n",
    "        \"X-RapidAPI-Host\": \"mdblist.p.rapidapi.com\"\n",
    "    }\n",
    "\n",
    "    response = requests.request(\"GET\", url, headers=headers, params=querystring)\n",
    "\n",
    "    return response\n"
   ]
  },
  {
   "cell_type": "code",
   "execution_count": 48,
   "metadata": {},
   "outputs": [
    {
     "name": "stdout",
     "output_type": "stream",
     "text": [
      "{'id': 'tt0903747', 'title': 'Breaking Bad', 'year': 2008, 'score': 92, 'score_average': 92, 'type': 'show', 'imdbid': 'tt0903747', 'tmdbid': 1396, 'traktid': 1388, 'tvdbid': 81189}\n"
     ]
    }
   ],
   "source": [
    "print(imdbpuller(rapid_api_key,\"Breaking Bad\",2008).json()[\"search\"][0])"
   ]
  },
  {
   "cell_type": "code",
   "execution_count": 70,
   "metadata": {},
   "outputs": [],
   "source": [
    "# ***DO NOT RUN***\n",
    "# unless you want to restart computing streaming_titles.csv (will take a very long time)\n",
    "# if you accidently run, just don't commit to main\n",
    "\n",
    "df['score'] = None\n",
    "df['imdbid'] = None\n",
    "df.to_csv(\"data/streaming_titles.csv\",index=False)\n"
   ]
  },
  {
   "cell_type": "code",
   "execution_count": 74,
   "metadata": {},
   "outputs": [
    {
     "name": "stdout",
     "output_type": "stream",
     "text": [
      "failed for Down To Earth: The Astronaut Perspective\n"
     ]
    },
    {
     "ename": "KeyboardInterrupt",
     "evalue": "",
     "output_type": "error",
     "traceback": [
      "\u001b[1;31m---------------------------------------------------------------------------\u001b[0m",
      "\u001b[1;31mKeyboardInterrupt\u001b[0m                         Traceback (most recent call last)",
      "Cell \u001b[1;32mIn[74], line 20\u001b[0m\n\u001b[0;32m     18\u001b[0m     \u001b[39mprint\u001b[39m(\u001b[39m\"\u001b[39m\u001b[39mno response for \u001b[39m\u001b[39m{title}\u001b[39;00m\u001b[39m\"\u001b[39m\u001b[39m.\u001b[39mformat(title\u001b[39m=\u001b[39mtitle))\n\u001b[0;32m     19\u001b[0m     \u001b[39mbreak\u001b[39;00m\n\u001b[1;32m---> 20\u001b[0m currjson \u001b[39m=\u001b[39m imdbpuller(rapid_api_key,title,year)\u001b[39m.\u001b[39mjson()\n\u001b[0;32m     21\u001b[0m responded \u001b[39m=\u001b[39m currjson[\u001b[39m'\u001b[39m\u001b[39mresponse\u001b[39m\u001b[39m'\u001b[39m]\n\u001b[0;32m     22\u001b[0m \u001b[39mif\u001b[39;00m \u001b[39mnot\u001b[39;00m responded:\n",
      "Cell \u001b[1;32mIn[47], line 14\u001b[0m, in \u001b[0;36mimdbpuller\u001b[1;34m(rapid_api_key, title, year)\u001b[0m\n\u001b[0;32m      7\u001b[0m querystring \u001b[39m=\u001b[39m {\u001b[39m\"\u001b[39m\u001b[39ms\u001b[39m\u001b[39m\"\u001b[39m:title,\u001b[39m\"\u001b[39m\u001b[39my\u001b[39m\u001b[39m\"\u001b[39m:year}\n\u001b[0;32m      9\u001b[0m headers \u001b[39m=\u001b[39m {\n\u001b[0;32m     10\u001b[0m     \u001b[39m\"\u001b[39m\u001b[39mX-RapidAPI-Key\u001b[39m\u001b[39m\"\u001b[39m: rapid_api_key,\n\u001b[0;32m     11\u001b[0m     \u001b[39m\"\u001b[39m\u001b[39mX-RapidAPI-Host\u001b[39m\u001b[39m\"\u001b[39m: \u001b[39m\"\u001b[39m\u001b[39mmdblist.p.rapidapi.com\u001b[39m\u001b[39m\"\u001b[39m\n\u001b[0;32m     12\u001b[0m }\n\u001b[1;32m---> 14\u001b[0m response \u001b[39m=\u001b[39m requests\u001b[39m.\u001b[39;49mrequest(\u001b[39m\"\u001b[39;49m\u001b[39mGET\u001b[39;49m\u001b[39m\"\u001b[39;49m, url, headers\u001b[39m=\u001b[39;49mheaders, params\u001b[39m=\u001b[39;49mquerystring)\n\u001b[0;32m     16\u001b[0m \u001b[39mreturn\u001b[39;00m response\n",
      "File \u001b[1;32mc:\\Users\\Colton\\AppData\\Local\\Programs\\Python\\Python39\\lib\\site-packages\\requests\\api.py:61\u001b[0m, in \u001b[0;36mrequest\u001b[1;34m(method, url, **kwargs)\u001b[0m\n\u001b[0;32m     57\u001b[0m \u001b[39m# By using the 'with' statement we are sure the session is closed, thus we\u001b[39;00m\n\u001b[0;32m     58\u001b[0m \u001b[39m# avoid leaving sockets open which can trigger a ResourceWarning in some\u001b[39;00m\n\u001b[0;32m     59\u001b[0m \u001b[39m# cases, and look like a memory leak in others.\u001b[39;00m\n\u001b[0;32m     60\u001b[0m \u001b[39mwith\u001b[39;00m sessions\u001b[39m.\u001b[39mSession() \u001b[39mas\u001b[39;00m session:\n\u001b[1;32m---> 61\u001b[0m     \u001b[39mreturn\u001b[39;00m session\u001b[39m.\u001b[39mrequest(method\u001b[39m=\u001b[39mmethod, url\u001b[39m=\u001b[39murl, \u001b[39m*\u001b[39m\u001b[39m*\u001b[39mkwargs)\n",
      "File \u001b[1;32mc:\\Users\\Colton\\AppData\\Local\\Programs\\Python\\Python39\\lib\\site-packages\\requests\\sessions.py:542\u001b[0m, in \u001b[0;36mSession.request\u001b[1;34m(self, method, url, params, data, headers, cookies, files, auth, timeout, allow_redirects, proxies, hooks, stream, verify, cert, json)\u001b[0m\n\u001b[0;32m    537\u001b[0m send_kwargs \u001b[39m=\u001b[39m {\n\u001b[0;32m    538\u001b[0m     \u001b[39m'\u001b[39m\u001b[39mtimeout\u001b[39m\u001b[39m'\u001b[39m: timeout,\n\u001b[0;32m    539\u001b[0m     \u001b[39m'\u001b[39m\u001b[39mallow_redirects\u001b[39m\u001b[39m'\u001b[39m: allow_redirects,\n\u001b[0;32m    540\u001b[0m }\n\u001b[0;32m    541\u001b[0m send_kwargs\u001b[39m.\u001b[39mupdate(settings)\n\u001b[1;32m--> 542\u001b[0m resp \u001b[39m=\u001b[39m \u001b[39mself\u001b[39m\u001b[39m.\u001b[39msend(prep, \u001b[39m*\u001b[39m\u001b[39m*\u001b[39msend_kwargs)\n\u001b[0;32m    544\u001b[0m \u001b[39mreturn\u001b[39;00m resp\n",
      "File \u001b[1;32mc:\\Users\\Colton\\AppData\\Local\\Programs\\Python\\Python39\\lib\\site-packages\\requests\\sessions.py:655\u001b[0m, in \u001b[0;36mSession.send\u001b[1;34m(self, request, **kwargs)\u001b[0m\n\u001b[0;32m    652\u001b[0m start \u001b[39m=\u001b[39m preferred_clock()\n\u001b[0;32m    654\u001b[0m \u001b[39m# Send the request\u001b[39;00m\n\u001b[1;32m--> 655\u001b[0m r \u001b[39m=\u001b[39m adapter\u001b[39m.\u001b[39msend(request, \u001b[39m*\u001b[39m\u001b[39m*\u001b[39mkwargs)\n\u001b[0;32m    657\u001b[0m \u001b[39m# Total elapsed time of the request (approximately)\u001b[39;00m\n\u001b[0;32m    658\u001b[0m elapsed \u001b[39m=\u001b[39m preferred_clock() \u001b[39m-\u001b[39m start\n",
      "File \u001b[1;32mc:\\Users\\Colton\\AppData\\Local\\Programs\\Python\\Python39\\lib\\site-packages\\requests\\adapters.py:439\u001b[0m, in \u001b[0;36mHTTPAdapter.send\u001b[1;34m(self, request, stream, timeout, verify, cert, proxies)\u001b[0m\n\u001b[0;32m    437\u001b[0m \u001b[39mtry\u001b[39;00m:\n\u001b[0;32m    438\u001b[0m     \u001b[39mif\u001b[39;00m \u001b[39mnot\u001b[39;00m chunked:\n\u001b[1;32m--> 439\u001b[0m         resp \u001b[39m=\u001b[39m conn\u001b[39m.\u001b[39;49murlopen(\n\u001b[0;32m    440\u001b[0m             method\u001b[39m=\u001b[39;49mrequest\u001b[39m.\u001b[39;49mmethod,\n\u001b[0;32m    441\u001b[0m             url\u001b[39m=\u001b[39;49murl,\n\u001b[0;32m    442\u001b[0m             body\u001b[39m=\u001b[39;49mrequest\u001b[39m.\u001b[39;49mbody,\n\u001b[0;32m    443\u001b[0m             headers\u001b[39m=\u001b[39;49mrequest\u001b[39m.\u001b[39;49mheaders,\n\u001b[0;32m    444\u001b[0m             redirect\u001b[39m=\u001b[39;49m\u001b[39mFalse\u001b[39;49;00m,\n\u001b[0;32m    445\u001b[0m             assert_same_host\u001b[39m=\u001b[39;49m\u001b[39mFalse\u001b[39;49;00m,\n\u001b[0;32m    446\u001b[0m             preload_content\u001b[39m=\u001b[39;49m\u001b[39mFalse\u001b[39;49;00m,\n\u001b[0;32m    447\u001b[0m             decode_content\u001b[39m=\u001b[39;49m\u001b[39mFalse\u001b[39;49;00m,\n\u001b[0;32m    448\u001b[0m             retries\u001b[39m=\u001b[39;49m\u001b[39mself\u001b[39;49m\u001b[39m.\u001b[39;49mmax_retries,\n\u001b[0;32m    449\u001b[0m             timeout\u001b[39m=\u001b[39;49mtimeout\n\u001b[0;32m    450\u001b[0m         )\n\u001b[0;32m    452\u001b[0m     \u001b[39m# Send the request.\u001b[39;00m\n\u001b[0;32m    453\u001b[0m     \u001b[39melse\u001b[39;00m:\n\u001b[0;32m    454\u001b[0m         \u001b[39mif\u001b[39;00m \u001b[39mhasattr\u001b[39m(conn, \u001b[39m'\u001b[39m\u001b[39mproxy_pool\u001b[39m\u001b[39m'\u001b[39m):\n",
      "File \u001b[1;32mc:\\Users\\Colton\\AppData\\Local\\Programs\\Python\\Python39\\lib\\site-packages\\urllib3\\connectionpool.py:699\u001b[0m, in \u001b[0;36mHTTPConnectionPool.urlopen\u001b[1;34m(self, method, url, body, headers, retries, redirect, assert_same_host, timeout, pool_timeout, release_conn, chunked, body_pos, **response_kw)\u001b[0m\n\u001b[0;32m    696\u001b[0m     \u001b[39mself\u001b[39m\u001b[39m.\u001b[39m_prepare_proxy(conn)\n\u001b[0;32m    698\u001b[0m \u001b[39m# Make the request on the httplib connection object.\u001b[39;00m\n\u001b[1;32m--> 699\u001b[0m httplib_response \u001b[39m=\u001b[39m \u001b[39mself\u001b[39;49m\u001b[39m.\u001b[39;49m_make_request(\n\u001b[0;32m    700\u001b[0m     conn,\n\u001b[0;32m    701\u001b[0m     method,\n\u001b[0;32m    702\u001b[0m     url,\n\u001b[0;32m    703\u001b[0m     timeout\u001b[39m=\u001b[39;49mtimeout_obj,\n\u001b[0;32m    704\u001b[0m     body\u001b[39m=\u001b[39;49mbody,\n\u001b[0;32m    705\u001b[0m     headers\u001b[39m=\u001b[39;49mheaders,\n\u001b[0;32m    706\u001b[0m     chunked\u001b[39m=\u001b[39;49mchunked,\n\u001b[0;32m    707\u001b[0m )\n\u001b[0;32m    709\u001b[0m \u001b[39m# If we're going to release the connection in ``finally:``, then\u001b[39;00m\n\u001b[0;32m    710\u001b[0m \u001b[39m# the response doesn't need to know about the connection. Otherwise\u001b[39;00m\n\u001b[0;32m    711\u001b[0m \u001b[39m# it will also try to release it and we'll have a double-release\u001b[39;00m\n\u001b[0;32m    712\u001b[0m \u001b[39m# mess.\u001b[39;00m\n\u001b[0;32m    713\u001b[0m response_conn \u001b[39m=\u001b[39m conn \u001b[39mif\u001b[39;00m \u001b[39mnot\u001b[39;00m release_conn \u001b[39melse\u001b[39;00m \u001b[39mNone\u001b[39;00m\n",
      "File \u001b[1;32mc:\\Users\\Colton\\AppData\\Local\\Programs\\Python\\Python39\\lib\\site-packages\\urllib3\\connectionpool.py:445\u001b[0m, in \u001b[0;36mHTTPConnectionPool._make_request\u001b[1;34m(self, conn, method, url, timeout, chunked, **httplib_request_kw)\u001b[0m\n\u001b[0;32m    440\u001b[0m             httplib_response \u001b[39m=\u001b[39m conn\u001b[39m.\u001b[39mgetresponse()\n\u001b[0;32m    441\u001b[0m         \u001b[39mexcept\u001b[39;00m \u001b[39mBaseException\u001b[39;00m \u001b[39mas\u001b[39;00m e:\n\u001b[0;32m    442\u001b[0m             \u001b[39m# Remove the TypeError from the exception chain in\u001b[39;00m\n\u001b[0;32m    443\u001b[0m             \u001b[39m# Python 3 (including for exceptions like SystemExit).\u001b[39;00m\n\u001b[0;32m    444\u001b[0m             \u001b[39m# Otherwise it looks like a bug in the code.\u001b[39;00m\n\u001b[1;32m--> 445\u001b[0m             six\u001b[39m.\u001b[39;49mraise_from(e, \u001b[39mNone\u001b[39;49;00m)\n\u001b[0;32m    446\u001b[0m \u001b[39mexcept\u001b[39;00m (SocketTimeout, BaseSSLError, SocketError) \u001b[39mas\u001b[39;00m e:\n\u001b[0;32m    447\u001b[0m     \u001b[39mself\u001b[39m\u001b[39m.\u001b[39m_raise_timeout(err\u001b[39m=\u001b[39me, url\u001b[39m=\u001b[39murl, timeout_value\u001b[39m=\u001b[39mread_timeout)\n",
      "File \u001b[1;32m<string>:3\u001b[0m, in \u001b[0;36mraise_from\u001b[1;34m(value, from_value)\u001b[0m\n",
      "File \u001b[1;32mc:\\Users\\Colton\\AppData\\Local\\Programs\\Python\\Python39\\lib\\site-packages\\urllib3\\connectionpool.py:440\u001b[0m, in \u001b[0;36mHTTPConnectionPool._make_request\u001b[1;34m(self, conn, method, url, timeout, chunked, **httplib_request_kw)\u001b[0m\n\u001b[0;32m    437\u001b[0m \u001b[39mexcept\u001b[39;00m \u001b[39mTypeError\u001b[39;00m:\n\u001b[0;32m    438\u001b[0m     \u001b[39m# Python 3\u001b[39;00m\n\u001b[0;32m    439\u001b[0m     \u001b[39mtry\u001b[39;00m:\n\u001b[1;32m--> 440\u001b[0m         httplib_response \u001b[39m=\u001b[39m conn\u001b[39m.\u001b[39;49mgetresponse()\n\u001b[0;32m    441\u001b[0m     \u001b[39mexcept\u001b[39;00m \u001b[39mBaseException\u001b[39;00m \u001b[39mas\u001b[39;00m e:\n\u001b[0;32m    442\u001b[0m         \u001b[39m# Remove the TypeError from the exception chain in\u001b[39;00m\n\u001b[0;32m    443\u001b[0m         \u001b[39m# Python 3 (including for exceptions like SystemExit).\u001b[39;00m\n\u001b[0;32m    444\u001b[0m         \u001b[39m# Otherwise it looks like a bug in the code.\u001b[39;00m\n\u001b[0;32m    445\u001b[0m         six\u001b[39m.\u001b[39mraise_from(e, \u001b[39mNone\u001b[39;00m)\n",
      "File \u001b[1;32mc:\\Users\\Colton\\AppData\\Local\\Programs\\Python\\Python39\\lib\\http\\client.py:1345\u001b[0m, in \u001b[0;36mHTTPConnection.getresponse\u001b[1;34m(self)\u001b[0m\n\u001b[0;32m   1343\u001b[0m \u001b[39mtry\u001b[39;00m:\n\u001b[0;32m   1344\u001b[0m     \u001b[39mtry\u001b[39;00m:\n\u001b[1;32m-> 1345\u001b[0m         response\u001b[39m.\u001b[39;49mbegin()\n\u001b[0;32m   1346\u001b[0m     \u001b[39mexcept\u001b[39;00m \u001b[39mConnectionError\u001b[39;00m:\n\u001b[0;32m   1347\u001b[0m         \u001b[39mself\u001b[39m\u001b[39m.\u001b[39mclose()\n",
      "File \u001b[1;32mc:\\Users\\Colton\\AppData\\Local\\Programs\\Python\\Python39\\lib\\http\\client.py:307\u001b[0m, in \u001b[0;36mHTTPResponse.begin\u001b[1;34m(self)\u001b[0m\n\u001b[0;32m    305\u001b[0m \u001b[39m# read until we get a non-100 response\u001b[39;00m\n\u001b[0;32m    306\u001b[0m \u001b[39mwhile\u001b[39;00m \u001b[39mTrue\u001b[39;00m:\n\u001b[1;32m--> 307\u001b[0m     version, status, reason \u001b[39m=\u001b[39m \u001b[39mself\u001b[39;49m\u001b[39m.\u001b[39;49m_read_status()\n\u001b[0;32m    308\u001b[0m     \u001b[39mif\u001b[39;00m status \u001b[39m!=\u001b[39m CONTINUE:\n\u001b[0;32m    309\u001b[0m         \u001b[39mbreak\u001b[39;00m\n",
      "File \u001b[1;32mc:\\Users\\Colton\\AppData\\Local\\Programs\\Python\\Python39\\lib\\http\\client.py:268\u001b[0m, in \u001b[0;36mHTTPResponse._read_status\u001b[1;34m(self)\u001b[0m\n\u001b[0;32m    267\u001b[0m \u001b[39mdef\u001b[39;00m \u001b[39m_read_status\u001b[39m(\u001b[39mself\u001b[39m):\n\u001b[1;32m--> 268\u001b[0m     line \u001b[39m=\u001b[39m \u001b[39mstr\u001b[39m(\u001b[39mself\u001b[39;49m\u001b[39m.\u001b[39;49mfp\u001b[39m.\u001b[39;49mreadline(_MAXLINE \u001b[39m+\u001b[39;49m \u001b[39m1\u001b[39;49m), \u001b[39m\"\u001b[39m\u001b[39miso-8859-1\u001b[39m\u001b[39m\"\u001b[39m)\n\u001b[0;32m    269\u001b[0m     \u001b[39mif\u001b[39;00m \u001b[39mlen\u001b[39m(line) \u001b[39m>\u001b[39m _MAXLINE:\n\u001b[0;32m    270\u001b[0m         \u001b[39mraise\u001b[39;00m LineTooLong(\u001b[39m\"\u001b[39m\u001b[39mstatus line\u001b[39m\u001b[39m\"\u001b[39m)\n",
      "File \u001b[1;32mc:\\Users\\Colton\\AppData\\Local\\Programs\\Python\\Python39\\lib\\socket.py:704\u001b[0m, in \u001b[0;36mSocketIO.readinto\u001b[1;34m(self, b)\u001b[0m\n\u001b[0;32m    702\u001b[0m \u001b[39mwhile\u001b[39;00m \u001b[39mTrue\u001b[39;00m:\n\u001b[0;32m    703\u001b[0m     \u001b[39mtry\u001b[39;00m:\n\u001b[1;32m--> 704\u001b[0m         \u001b[39mreturn\u001b[39;00m \u001b[39mself\u001b[39;49m\u001b[39m.\u001b[39;49m_sock\u001b[39m.\u001b[39;49mrecv_into(b)\n\u001b[0;32m    705\u001b[0m     \u001b[39mexcept\u001b[39;00m timeout:\n\u001b[0;32m    706\u001b[0m         \u001b[39mself\u001b[39m\u001b[39m.\u001b[39m_timeout_occurred \u001b[39m=\u001b[39m \u001b[39mTrue\u001b[39;00m\n",
      "File \u001b[1;32mc:\\Users\\Colton\\AppData\\Local\\Programs\\Python\\Python39\\lib\\ssl.py:1241\u001b[0m, in \u001b[0;36mSSLSocket.recv_into\u001b[1;34m(self, buffer, nbytes, flags)\u001b[0m\n\u001b[0;32m   1237\u001b[0m     \u001b[39mif\u001b[39;00m flags \u001b[39m!=\u001b[39m \u001b[39m0\u001b[39m:\n\u001b[0;32m   1238\u001b[0m         \u001b[39mraise\u001b[39;00m \u001b[39mValueError\u001b[39;00m(\n\u001b[0;32m   1239\u001b[0m           \u001b[39m\"\u001b[39m\u001b[39mnon-zero flags not allowed in calls to recv_into() on \u001b[39m\u001b[39m%s\u001b[39;00m\u001b[39m\"\u001b[39m \u001b[39m%\u001b[39m\n\u001b[0;32m   1240\u001b[0m           \u001b[39mself\u001b[39m\u001b[39m.\u001b[39m\u001b[39m__class__\u001b[39m)\n\u001b[1;32m-> 1241\u001b[0m     \u001b[39mreturn\u001b[39;00m \u001b[39mself\u001b[39;49m\u001b[39m.\u001b[39;49mread(nbytes, buffer)\n\u001b[0;32m   1242\u001b[0m \u001b[39melse\u001b[39;00m:\n\u001b[0;32m   1243\u001b[0m     \u001b[39mreturn\u001b[39;00m \u001b[39msuper\u001b[39m()\u001b[39m.\u001b[39mrecv_into(buffer, nbytes, flags)\n",
      "File \u001b[1;32mc:\\Users\\Colton\\AppData\\Local\\Programs\\Python\\Python39\\lib\\ssl.py:1099\u001b[0m, in \u001b[0;36mSSLSocket.read\u001b[1;34m(self, len, buffer)\u001b[0m\n\u001b[0;32m   1097\u001b[0m \u001b[39mtry\u001b[39;00m:\n\u001b[0;32m   1098\u001b[0m     \u001b[39mif\u001b[39;00m buffer \u001b[39mis\u001b[39;00m \u001b[39mnot\u001b[39;00m \u001b[39mNone\u001b[39;00m:\n\u001b[1;32m-> 1099\u001b[0m         \u001b[39mreturn\u001b[39;00m \u001b[39mself\u001b[39;49m\u001b[39m.\u001b[39;49m_sslobj\u001b[39m.\u001b[39;49mread(\u001b[39mlen\u001b[39;49m, buffer)\n\u001b[0;32m   1100\u001b[0m     \u001b[39melse\u001b[39;00m:\n\u001b[0;32m   1101\u001b[0m         \u001b[39mreturn\u001b[39;00m \u001b[39mself\u001b[39m\u001b[39m.\u001b[39m_sslobj\u001b[39m.\u001b[39mread(\u001b[39mlen\u001b[39m)\n",
      "\u001b[1;31mKeyboardInterrupt\u001b[0m: "
     ]
    }
   ],
   "source": [
    "df2 = pd.read_csv(\"data/streaming_titles.csv\",dtype={'score' : float, 'imdbid' : 'string'})\n",
    "\n",
    "index = df2['score'].last_valid_index()\n",
    "if index == None:\n",
    "    index = 0\n",
    "\n",
    "count = 0\n",
    "for k in range(index,len(df2)):\n",
    "    row = df2.iloc[k]\n",
    "    title = row[\"title\"]\n",
    "    year = row[\"release_year\"]\n",
    "    responded = False\n",
    "    respcount = 0\n",
    "\n",
    "    while not responded:\n",
    "        if respcount >= 10:\n",
    "            clear_output()\n",
    "            print(\"no response for {title}\".format(title=title))\n",
    "            break\n",
    "        currjson = imdbpuller(rapid_api_key,title,year).json()\n",
    "        responded = currjson['response']\n",
    "        if not responded:\n",
    "            time.sleep(0.25)\n",
    "        respcount += 1\n",
    "    if not responded:\n",
    "        continue\n",
    "\n",
    "    madeit = False\n",
    "    for queries in currjson['search']:\n",
    "        if queries['title'] == title:\n",
    "            df2.at[k,\"score\"] = queries[\"score\"]\n",
    "            df2.at[k,\"imdbid\"] = queries[\"imdbid\"]\n",
    "            clear_output()\n",
    "            print('success for {title}'.format(title=title))\n",
    "            madeit = True\n",
    "            break\n",
    "    if not madeit:\n",
    "        clear_output()\n",
    "        print(\"failed for {title}\".format(title=title))\n",
    "\n",
    "    count += 1\n",
    "\n",
    "    if count%20 == 0:\n",
    "        clear_output()\n",
    "        print(\"writing to csv... {index}\".format(index=k))\n",
    "        df2.to_csv(\"data/streaming_titles.csv\",index=False)\n",
    "\n"
   ]
  },
  {
   "cell_type": "code",
   "execution_count": 67,
   "metadata": {},
   "outputs": [
    {
     "name": "stdout",
     "output_type": "stream",
     "text": [
      "      show_id   type                                           title  \\\n",
      "0          s1  Movie                  Ricky Velez: Here's Everything   \n",
      "1          s2  Movie                                    Silent Night   \n",
      "2          s3  Movie                                    The Marksman   \n",
      "3          s4  Movie                                            Gaia   \n",
      "4          s5  Movie                                        Settlers   \n",
      "...       ...    ...                                             ...   \n",
      "22993   s1446  Movie                        X-Men Origins: Wolverine   \n",
      "22994   s1447  Movie  Night at the Museum: Battle of the Smithsonian   \n",
      "22995   s1448  Movie                                 Eddie the Eagle   \n",
      "22996   s1449  Movie                            Bend It Like Beckham   \n",
      "22997   s1450  Movie           Captain Sparky vs. The Flying Saucers   \n",
      "\n",
      "              director                                               cast  \\\n",
      "0                  NaN                                                NaN   \n",
      "1                  NaN                                                NaN   \n",
      "2                  NaN                                                NaN   \n",
      "3                  NaN                                                NaN   \n",
      "4                  NaN                                                NaN   \n",
      "...                ...                                                ...   \n",
      "22993       Gavin Hood  Hugh Jackman, Liev Schreiber, Danny Huston, wi...   \n",
      "22994       Shawn Levy  Ben Stiller, Amy Adams, Owen Wilson, Hank Azar...   \n",
      "22995  Dexter Fletcher  Tom Costello, Jo Hartley, Keith Allen, Dickon ...   \n",
      "22996  Gurinder Chadha  Parminder Nagra, Keira Knightley, Jonathan Rhy...   \n",
      "22997      Mark Waring                                      Charlie Tahan   \n",
      "\n",
      "                                      country          date_added  \\\n",
      "0                                         NaN    October 24, 2021   \n",
      "1                                         NaN    October 23, 2021   \n",
      "2                                         NaN    October 23, 2021   \n",
      "3                                         NaN    October 22, 2021   \n",
      "4                                         NaN    October 22, 2021   \n",
      "...                                       ...                 ...   \n",
      "22993           United States, United Kingdom        June 4, 2021   \n",
      "22994                   United States, Canada       April 2, 2021   \n",
      "22995  United Kingdom, Germany, United States   December 18, 2020   \n",
      "22996  United Kingdom, Germany, United States  September 18, 2020   \n",
      "22997                           United States       April 1, 2020   \n",
      "\n",
      "       release_year rating duration  \\\n",
      "0              2021  TV-MA      NaN   \n",
      "1              2020    NaN   94 min   \n",
      "2              2021  PG-13  108 min   \n",
      "3              2021      R   97 min   \n",
      "4              2021    NaN  104 min   \n",
      "...             ...    ...      ...   \n",
      "22993          2009  PG-13  108 min   \n",
      "22994          2009     PG  106 min   \n",
      "22995          2016  PG-13  107 min   \n",
      "22996          2003  PG-13  112 min   \n",
      "22997          2012   TV-G    2 min   \n",
      "\n",
      "                                           listed_in  \\\n",
      "0                                   Comedy, Stand Up   \n",
      "1                             Crime, Drama, Thriller   \n",
      "2                                   Action, Thriller   \n",
      "3                                             Horror   \n",
      "4                          Science Fiction, Thriller   \n",
      "...                                              ...   \n",
      "22993      Action-Adventure, Family, Science Fiction   \n",
      "22994               Action-Adventure, Comedy, Family   \n",
      "22995                    Biographical, Comedy, Drama   \n",
      "22996                   Buddy, Comedy, Coming of Age   \n",
      "22997  Action-Adventure, Animals & Nature, Animation   \n",
      "\n",
      "                                             description streaming_service  \\\n",
      "0      ​Comedian Ricky Velez bares it all with his ho...              hulu   \n",
      "1      Mark, a low end South London hitman recently r...              hulu   \n",
      "2      A hardened Arizona rancher tries to protect an...              hulu   \n",
      "3      A forest ranger and two survivalists with a cu...              hulu   \n",
      "4      Mankind's earliest settlers on the Martian fro...              hulu   \n",
      "...                                                  ...               ...   \n",
      "22993  Wolverine unites with legendary X-Men to fight...       disney_plus   \n",
      "22994  Larry Daley returns to rescue some old friends...       disney_plus   \n",
      "22995  True story of Eddie Edwards, a British ski-jum...       disney_plus   \n",
      "22996  Despite the wishes of their traditional famili...       disney_plus   \n",
      "22997         View one of Sparky's favorite home movies.       disney_plus   \n",
      "\n",
      "       score  imdbid  \n",
      "0        NaN     NaN  \n",
      "1        NaN     NaN  \n",
      "2        NaN     NaN  \n",
      "3        NaN     NaN  \n",
      "4        NaN     NaN  \n",
      "...      ...     ...  \n",
      "22993    NaN     NaN  \n",
      "22994    NaN     NaN  \n",
      "22995    NaN     NaN  \n",
      "22996    NaN     NaN  \n",
      "22997    NaN     NaN  \n",
      "\n",
      "[22998 rows x 15 columns]\n"
     ]
    }
   ],
   "source": [
    "print(df2)"
   ]
  }
 ],
 "metadata": {
  "kernelspec": {
   "display_name": "Python 3",
   "language": "python",
   "name": "python3"
  },
  "language_info": {
   "codemirror_mode": {
    "name": "ipython",
    "version": 3
   },
   "file_extension": ".py",
   "mimetype": "text/x-python",
   "name": "python",
   "nbconvert_exporter": "python",
   "pygments_lexer": "ipython3",
   "version": "3.9.4"
  },
  "orig_nbformat": 4,
  "vscode": {
   "interpreter": {
    "hash": "e300fba2566cee502a9e52cead2ead84e1444220c0a195fe24ff4762ac5fda36"
   }
  }
 },
 "nbformat": 4,
 "nbformat_minor": 2
}
