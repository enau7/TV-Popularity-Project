{
 "cells": [
  {
   "cell_type": "code",
   "execution_count": 31,
   "metadata": {},
   "outputs": [],
   "source": [
    "import pandas as pd\n",
    "import numpy as np\n",
    "df = pd.read_csv(\"data/streaming_titles.csv\")"
   ]
  },
  {
   "cell_type": "code",
   "execution_count": 39,
   "metadata": {},
   "outputs": [
    {
     "name": "stdout",
     "output_type": "stream",
     "text": [
      "['Action', 'Action & Adventure', 'Action-Adventure', 'Adult Animation', 'Adventure', 'Animals & Nature', 'Animation', 'Anime', 'Anime Features', 'Anime Series', 'Anthology', 'Arthouse', 'Arts', 'Biographical', 'Black Stories', 'British TV Shows', 'Buddy', 'Cartoons', 'Children & Family Movies', 'Classic & Cult TV', 'Classic Movies', 'Classics', 'Comedies', 'Comedy', 'Coming of Age', 'Concert Film', 'Cooking & Food', 'Crime', 'Crime TV Shows', 'Cult Movies', 'Dance', 'Disaster', 'Documentaries', 'Documentary', 'Docuseries', 'Drama', 'Dramas', 'Entertainment', 'Faith & Spirituality', 'Faith and Spirituality', 'Family', 'Fantasy', 'Fitness', 'Game Show / Competition', 'Game Shows', 'Health & Wellness', 'Historical', 'History', 'Horror', 'Horror Movies', 'Independent Movies', 'International', 'International Movies', 'International TV Shows', 'Kids', \"Kids' TV\", 'Korean TV Shows', 'LGBTQ', 'LGBTQ Movies', 'LGBTQ+', 'Late Night', 'Latino', 'Lifestyle', 'Lifestyle & Culture', 'Medical', 'Military and War', 'Movies', 'Music', 'Music & Musicals', 'Music Videos and Concerts', 'Musical', 'Mystery', 'News', 'Parody', 'Police/Cop', 'Reality', 'Reality TV', 'Romance', 'Romantic Comedy', 'Romantic Movies', 'Romantic TV Shows', 'Sci-Fi & Fantasy', 'Science & Nature TV', 'Science & Technology', 'Science Fiction', 'Series', 'Sitcom', 'Sketch Comedy', 'Soap Opera / Melodrama', 'Spanish-Language TV Shows', 'Special Interest', 'Sports', 'Sports Movies', 'Spy/Espionage', 'Stand Up', 'Stand-Up Comedy', 'Stand-Up Comedy & Talk Shows', 'Superhero', 'Survival', 'Suspense', 'TV Action & Adventure', 'TV Comedies', 'TV Dramas', 'TV Horror', 'TV Mysteries', 'TV Sci-Fi & Fantasy', 'TV Shows', 'TV Thrillers', 'Talk Show', 'Talk Show and Variety', 'Teen', 'Teen TV Shows', 'Thriller', 'Thrillers', 'Travel', 'Unscripted', 'Variety', 'Western', 'Young Adult Audience', 'and Culture']\n",
      "120\n"
     ]
    }
   ],
   "source": [
    "# Get genres as a set\n",
    "\n",
    "genrelistraw = df[\"listed_in\"].to_list()\n",
    "\n",
    "genres = set()\n",
    "for elem in genrelistraw:\n",
    "    if type(elem) != str:\n",
    "        continue\n",
    "    splitted = elem.split(', ')\n",
    "    for k in splitted:\n",
    "        genres.add(k)\n",
    "\n",
    "print(sorted(list(genres)))\n",
    "print(len(genres))"
   ]
  },
  {
   "attachments": {},
   "cell_type": "markdown",
   "metadata": {},
   "source": [
    "A quick look:\n",
    "There appears to be multiple of the same genre, as in, \n",
    "- Action-Adventure, Action & Adventure \n",
    "- Documentaries, Documentary, Docuseries\n",
    "\n",
    "There is also an issue because one genre is called \"Arts, Entertainment, and Culture\" which gets parsed as three different genres.\n",
    "\n",
    "We should check to make sure no other genre names have commas in them like this."
   ]
  }
 ],
 "metadata": {
  "kernelspec": {
   "display_name": "Python 3",
   "language": "python",
   "name": "python3"
  },
  "language_info": {
   "codemirror_mode": {
    "name": "ipython",
    "version": 3
   },
   "file_extension": ".py",
   "mimetype": "text/x-python",
   "name": "python",
   "nbconvert_exporter": "python",
   "pygments_lexer": "ipython3",
   "version": "3.9.4"
  },
  "orig_nbformat": 4
 },
 "nbformat": 4,
 "nbformat_minor": 2
}
