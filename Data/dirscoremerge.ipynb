{
 "cells": [
  {
   "cell_type": "code",
   "execution_count": 1,
   "metadata": {},
   "outputs": [],
   "source": [
    "import pandas as pd\n",
    "\n",
    "dirdf = pd.read_csv(\"director_cast_avg.csv\")\n",
    "rcdf = pd.read_csv(\"rating_country_clean.csv\")\n",
    "\n",
    "dirdf = dirdf[[\"title\",\"Number_MoviesShows_dir\",\"dir_average_score\",\"Number_MoviesShows_cast\",\"cast_average_score\"]]"
   ]
  },
  {
   "cell_type": "code",
   "execution_count": 2,
   "metadata": {},
   "outputs": [],
   "source": [
    "cleandf = pd.merge(left = dirdf, right = rcdf, how=\"inner\",on=\"title\")\n",
    "cleandf.to_csv(\"data/streaming_titles_final.csv\")"
   ]
  }
 ],
 "metadata": {
  "kernelspec": {
   "display_name": "Python 3",
   "language": "python",
   "name": "python3"
  },
  "language_info": {
   "codemirror_mode": {
    "name": "ipython",
    "version": 3
   },
   "file_extension": ".py",
   "mimetype": "text/x-python",
   "name": "python",
   "nbconvert_exporter": "python",
   "pygments_lexer": "ipython3",
   "version": "3.9.4"
  },
  "orig_nbformat": 4
 },
 "nbformat": 4,
 "nbformat_minor": 2
}
