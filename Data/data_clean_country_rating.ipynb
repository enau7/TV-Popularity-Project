{
 "cells": [
  {
   "cell_type": "code",
   "execution_count": 14,
   "metadata": {},
   "outputs": [],
   "source": [
    "import pandas as pd \n",
    "import numpy as np\n",
    "data = pd.read_csv('/Users/christianmatthewgarduno/Downloads/streaming_titles_clean.csv')\n"
   ]
  },
  {
   "cell_type": "markdown",
   "metadata": {},
   "source": [
    "Objective : Have a uniform naming scheme for \"rating\" and get only ne country for each country column. "
   ]
  },
  {
   "cell_type": "code",
   "execution_count": 15,
   "metadata": {},
   "outputs": [
    {
     "data": {
      "text/plain": [
       "array([nan, 'PG-13', 'R', 'TV-14', 'PG', 'TV-PG', 'NOT RATED', 'TV-MA',\n",
       "       'G', 'TV-G', 'TV-Y7', 'TV-Y', 'NR', '13+', '18+', '16+', 'TV-NR',\n",
       "       'ALL', '7+', 'NC-17', 'UNRATED', 'AGES_16_', 'NOT_RATE',\n",
       "       'TV-Y7-FV', 'UR'], dtype=object)"
      ]
     },
     "execution_count": 15,
     "metadata": {},
     "output_type": "execute_result"
    }
   ],
   "source": [
    "data.rating.unique()"
   ]
  },
  {
   "cell_type": "markdown",
   "metadata": {},
   "source": [
    "List of unique rating names: [nan, 'PG-13', 'R', 'TV-14', 'PG', 'TV-PG', 'NOT RATED', 'TV-MA',\n",
    "       'G', 'TV-G', 'TV-Y7', 'TV-Y', 'NR', '13+', '18+', '16+', 'TV-NR',\n",
    "       'ALL', '7+', 'NC-17', 'UNRATED', 'AGES_16_', 'NOT_RATE',\n",
    "       'TV-Y7-FV', 'UR']"
   ]
  },
  {
   "cell_type": "markdown",
   "metadata": {},
   "source": [
    "Discrepancies I need to remap: ({PG-13: 13+},{R:18+},{TV-14:},{PG:TV-PG},{NR:NOT RATED, NOT_RATE,TV-NR,UNRATED,UR},{TV-MA:},{G: TV-G},{7+:TV-Y7,TV-Y7-FV},{TV-Y:},{16+: AGES_16_},{All:},{NC-17:},"
   ]
  },
  {
   "cell_type": "markdown",
   "metadata": {},
   "source": [
    "Some concerns does NR correspond to a rating or just mean there wasnt a rating given. Is there a difference between NR and UR?"
   ]
  },
  {
   "cell_type": "code",
   "execution_count": 16,
   "metadata": {},
   "outputs": [],
   "source": [
    "df = data\n",
    "df['rating'] = df['rating'].replace('13+','PG-13')\n",
    "df['rating'] = df['rating'].replace('18+','R')\n",
    "df['rating'] = df['rating'].replace('TV-PG','PG')\n",
    "df['rating'] = df['rating'].replace(['NOT RATED','UNRATED','NOT_RATE','TV-NR','UR'],'NR')\n",
    "df['rating'] = df['rating'].replace('TV-G','G')\n",
    "df['rating'] = df['rating'].replace(['TV-Y7','TV-Y7-FV'],'7+')\n",
    "df['rating'] = df['rating'].replace('AGES_16_','16+')\n",
    "df.rating.unique()\n",
    "rating_clean = df "
   ]
  },
  {
   "cell_type": "markdown",
   "metadata": {},
   "source": [
    "Ratings are now cleaned. Time to clean the country column."
   ]
  },
  {
   "cell_type": "code",
   "execution_count": 20,
   "metadata": {},
   "outputs": [],
   "source": [
    "df['country'] = df['country'].str.split(',').str[0]\n",
    "rating_country_clean = df\n",
    "rating_country_clean.to_csv(\"rating_country_clean.csv\", encoding='utf-8', index=False)"
   ]
  }
 ],
 "metadata": {
  "kernelspec": {
   "display_name": "Python 3.10.5 64-bit",
   "language": "python",
   "name": "python3"
  },
  "language_info": {
   "codemirror_mode": {
    "name": "ipython",
    "version": 3
   },
   "file_extension": ".py",
   "mimetype": "text/x-python",
   "name": "python",
   "nbconvert_exporter": "python",
   "pygments_lexer": "ipython3",
   "version": "3.10.5"
  },
  "orig_nbformat": 4,
  "vscode": {
   "interpreter": {
    "hash": "aee8b7b246df8f9039afb4144a1f6fd8d2ca17a180786b69acc140d282b71a49"
   }
  }
 },
 "nbformat": 4,
 "nbformat_minor": 2
}
