{
 "cells": [
  {
   "cell_type": "code",
   "execution_count": 11,
   "metadata": {},
   "outputs": [],
   "source": [
    "# Misc and Fundamentals\n",
    "import pandas as pd\n",
    "import matplotlib.pyplot as plt\n",
    "import os\n",
    "import joblib\n",
    "\n",
    "# Setup \n",
    "from sklearn.model_selection import train_test_split\n",
    "from sklearn.pipeline import Pipeline\n",
    "from sklearn.compose import ColumnTransformer\n",
    "from sklearn.compose import make_column_transformer\n",
    "from sklearn.preprocessing import OneHotEncoder\n",
    "from sklearn.preprocessing import PolynomialFeatures\n",
    "from sklearn.preprocessing import StandardScaler\n",
    "from sklearn.model_selection import KFold\n",
    "from sklearn.model_selection import GridSearchCV\n",
    "\n",
    "# Models\n",
    "from sklearn.linear_model import LinearRegression\n",
    "from sklearn import tree\n",
    "from sklearn import ensemble\n",
    "\n",
    "# Evaluation\n",
    "from sklearn.model_selection import cross_val_score\n",
    "from sklearn.metrics import mean_squared_error"
   ]
  },
  {
   "cell_type": "code",
   "execution_count": 12,
   "metadata": {},
   "outputs": [
    {
     "name": "stdout",
     "output_type": "stream",
     "text": [
      "[nan 'PG-13' 'R' 'TV-14' 'PG' 'TV-PG' 'NOT RATED' 'TV-MA' 'G' 'TV-G'\n",
      " 'TV-Y7' 'TV-Y' 'NR' '13+' '18+' '16+' 'TV-NR' 'ALL' '7+' 'NC-17'\n",
      " 'UNRATED' 'AGES_16_' 'NOT_RATE' 'TV-Y7-FV' 'UR']\n"
     ]
    },
    {
     "data": {
      "text/html": [
       "<div>\n",
       "<style scoped>\n",
       "    .dataframe tbody tr th:only-of-type {\n",
       "        vertical-align: middle;\n",
       "    }\n",
       "\n",
       "    .dataframe tbody tr th {\n",
       "        vertical-align: top;\n",
       "    }\n",
       "\n",
       "    .dataframe thead th {\n",
       "        text-align: right;\n",
       "    }\n",
       "</style>\n",
       "<table border=\"1\" class=\"dataframe\">\n",
       "  <thead>\n",
       "    <tr style=\"text-align: right;\">\n",
       "      <th></th>\n",
       "      <th>type</th>\n",
       "      <th>title</th>\n",
       "      <th>director</th>\n",
       "      <th>cast</th>\n",
       "      <th>release_year</th>\n",
       "      <th>duration</th>\n",
       "      <th>description</th>\n",
       "      <th>score</th>\n",
       "      <th>imdbid</th>\n",
       "      <th>genre.Crime</th>\n",
       "      <th>...</th>\n",
       "      <th>rating_TV-14</th>\n",
       "      <th>rating_TV-G</th>\n",
       "      <th>rating_TV-MA</th>\n",
       "      <th>rating_TV-NR</th>\n",
       "      <th>rating_TV-PG</th>\n",
       "      <th>rating_TV-Y</th>\n",
       "      <th>rating_TV-Y7</th>\n",
       "      <th>rating_TV-Y7-FV</th>\n",
       "      <th>rating_UNRATED</th>\n",
       "      <th>rating_UR</th>\n",
       "    </tr>\n",
       "  </thead>\n",
       "  <tbody>\n",
       "    <tr>\n",
       "      <th>0</th>\n",
       "      <td>Movie</td>\n",
       "      <td>Silent Night</td>\n",
       "      <td>NaN</td>\n",
       "      <td>NaN</td>\n",
       "      <td>2020</td>\n",
       "      <td>94.0</td>\n",
       "      <td>Mark, a low end South London hitman recently r...</td>\n",
       "      <td>56.0</td>\n",
       "      <td>tt11628854</td>\n",
       "      <td>True</td>\n",
       "      <td>...</td>\n",
       "      <td>0</td>\n",
       "      <td>0</td>\n",
       "      <td>0</td>\n",
       "      <td>0</td>\n",
       "      <td>0</td>\n",
       "      <td>0</td>\n",
       "      <td>0</td>\n",
       "      <td>0</td>\n",
       "      <td>0</td>\n",
       "      <td>0</td>\n",
       "    </tr>\n",
       "    <tr>\n",
       "      <th>1</th>\n",
       "      <td>Movie</td>\n",
       "      <td>The Marksman</td>\n",
       "      <td>NaN</td>\n",
       "      <td>NaN</td>\n",
       "      <td>2021</td>\n",
       "      <td>108.0</td>\n",
       "      <td>A hardened Arizona rancher tries to protect an...</td>\n",
       "      <td>57.0</td>\n",
       "      <td>tt6902332</td>\n",
       "      <td>False</td>\n",
       "      <td>...</td>\n",
       "      <td>0</td>\n",
       "      <td>0</td>\n",
       "      <td>0</td>\n",
       "      <td>0</td>\n",
       "      <td>0</td>\n",
       "      <td>0</td>\n",
       "      <td>0</td>\n",
       "      <td>0</td>\n",
       "      <td>0</td>\n",
       "      <td>0</td>\n",
       "    </tr>\n",
       "    <tr>\n",
       "      <th>2</th>\n",
       "      <td>Movie</td>\n",
       "      <td>Gaia</td>\n",
       "      <td>NaN</td>\n",
       "      <td>NaN</td>\n",
       "      <td>2021</td>\n",
       "      <td>97.0</td>\n",
       "      <td>A forest ranger and two survivalists with a cu...</td>\n",
       "      <td>63.0</td>\n",
       "      <td>tt11881160</td>\n",
       "      <td>False</td>\n",
       "      <td>...</td>\n",
       "      <td>0</td>\n",
       "      <td>0</td>\n",
       "      <td>0</td>\n",
       "      <td>0</td>\n",
       "      <td>0</td>\n",
       "      <td>0</td>\n",
       "      <td>0</td>\n",
       "      <td>0</td>\n",
       "      <td>0</td>\n",
       "      <td>0</td>\n",
       "    </tr>\n",
       "  </tbody>\n",
       "</table>\n",
       "<p>3 rows × 751 columns</p>\n",
       "</div>"
      ],
      "text/plain": [
       "    type         title director cast  release_year  duration  \\\n",
       "0  Movie  Silent Night      NaN  NaN          2020      94.0   \n",
       "1  Movie  The Marksman      NaN  NaN          2021     108.0   \n",
       "2  Movie          Gaia      NaN  NaN          2021      97.0   \n",
       "\n",
       "                                         description  score      imdbid  \\\n",
       "0  Mark, a low end South London hitman recently r...   56.0  tt11628854   \n",
       "1  A hardened Arizona rancher tries to protect an...   57.0   tt6902332   \n",
       "2  A forest ranger and two survivalists with a cu...   63.0  tt11881160   \n",
       "\n",
       "   genre.Crime  ...  rating_TV-14  rating_TV-G  rating_TV-MA  rating_TV-NR  \\\n",
       "0         True  ...             0            0             0             0   \n",
       "1        False  ...             0            0             0             0   \n",
       "2        False  ...             0            0             0             0   \n",
       "\n",
       "   rating_TV-PG  rating_TV-Y  rating_TV-Y7  rating_TV-Y7-FV  rating_UNRATED  \\\n",
       "0             0            0             0                0               0   \n",
       "1             0            0             0                0               0   \n",
       "2             0            0             0                0               0   \n",
       "\n",
       "   rating_UR  \n",
       "0          0  \n",
       "1          0  \n",
       "2          0  \n",
       "\n",
       "[3 rows x 751 columns]"
      ]
     },
     "execution_count": 12,
     "metadata": {},
     "output_type": "execute_result"
    }
   ],
   "source": [
    "tv_df = pd.read_csv(\"../Data/data/streaming_titles_clean.csv\")\n",
    "# Convert columns to dummies\n",
    "print(tv_df[\"rating\"].unique())\n",
    "tv_df = pd.get_dummies(tv_df,columns=[\"country\",\"rating\"])\n",
    "\n",
    "tv_df.head(3)"
   ]
  },
  {
   "cell_type": "code",
   "execution_count": 13,
   "metadata": {},
   "outputs": [],
   "source": [
    "# Train/Test split\n",
    "tv_train, tv_test = train_test_split(tv_df, random_state = 2023) # random state important for evaluation\n",
    "\n",
    "X = tv_train.loc[:,tv_train.columns != \"score\"]\n",
    "y = tv_train[\"score\"]"
   ]
  },
  {
   "attachments": {},
   "cell_type": "markdown",
   "metadata": {},
   "source": [
    "The following function is to be able to save and load models without having to re-compute everything every time."
   ]
  },
  {
   "cell_type": "code",
   "execution_count": 14,
   "metadata": {},
   "outputs": [],
   "source": [
    "def fitmodel(model, filename, df = tv_train):\n",
    "    \n",
    "    if not os.path.isfile(filename):\n",
    "\n",
    "        model.fit(X,y)\n",
    "\n",
    "        joblib.dump(model, filename)\n",
    "\n",
    "    else:\n",
    "        modeltemp = joblib.load(filename)\n",
    "        if (type(model) != type(modeltemp)) or \\\n",
    "            (tuple([k[0] for k in model.steps]) != tuple([k[0] for k in modeltemp.steps])):\n",
    "            print (\"\\033[93m Warning: model mismatch. Delete the file {filename} and rerun or risk faulty models.\\n \\033[0m\".format(filename=filename))\n",
    "        model = modeltemp\n",
    "    \n",
    "    return model"
   ]
  },
  {
   "cell_type": "code",
   "execution_count": 15,
   "metadata": {},
   "outputs": [],
   "source": [
    "from sklearn.metrics import get_scorer_names\n",
    "# get_scorer_names()[20:]"
   ]
  },
  {
   "attachments": {},
   "cell_type": "markdown",
   "metadata": {},
   "source": [
    "We are going to use the `neg_root_mean_squared_error` metric, because it essentially gives us the weighted distance our model is from the correct metric."
   ]
  },
  {
   "cell_type": "code",
   "execution_count": 16,
   "metadata": {},
   "outputs": [
    {
     "name": "stdout",
     "output_type": "stream",
     "text": [
      "mean: 48.4, rMSE: 21.7000\n"
     ]
    }
   ],
   "source": [
    "from numpy import mean, std\n",
    "print(\"mean: %0.1f, rMSE: %0.4f\"% (mean(y.values),std(y.values)))"
   ]
  },
  {
   "attachments": {},
   "cell_type": "markdown",
   "metadata": {},
   "source": [
    "A rMSE of 21.7 here means that if we guessed the mean every time, we would be on average off by 21.7 points. So, our model should try to get a better rMSE than 21.7."
   ]
  },
  {
   "cell_type": "code",
   "execution_count": 26,
   "metadata": {},
   "outputs": [],
   "source": [
    "from ModelHelpers import *"
   ]
  },
  {
   "attachments": {},
   "cell_type": "markdown",
   "metadata": {},
   "source": [
    "Let's start by making a Beta Regression predictor."
   ]
  },
  {
   "cell_type": "code",
   "execution_count": 27,
   "metadata": {},
   "outputs": [
    {
     "name": "stdout",
     "output_type": "stream",
     "text": [
      "19.7978 root MSE with a standard deviation of 0.2440.\n"
     ]
    }
   ],
   "source": [
    "beta_pipe = Pipeline(steps =  [\n",
    "    (\"predictors\", ColumnSelector(columns=[\"release_year\"],\n",
    "                                  startswith=[\"genre\",\"rating\"])),\n",
    "    (\"beta_regression\", BetaRegression(from_range=(0,100)))\n",
    "    ])\n",
    "\n",
    "tv_folded = KFold(n_splits = 5).split(X,y)\n",
    "\n",
    "lm_cross_val = cross_val_score(estimator = beta_pipe,\n",
    "                               cv = tv_folded,\n",
    "                               scoring = 'neg_root_mean_squared_error',\n",
    "                               X = X,\n",
    "                               y = y,\n",
    "                               verbose = 0)\n",
    "\n",
    "print(\"%0.4f root MSE with a standard deviation of %0.4f.\" % (-1*lm_cross_val.mean(), lm_cross_val.std()))"
   ]
  },
  {
   "cell_type": "code",
   "execution_count": 28,
   "metadata": {},
   "outputs": [],
   "source": [
    "fitmodel(beta_pipe, \"models/beta_regression.joblib\")\n",
    "pass"
   ]
  }
 ],
 "metadata": {
  "kernelspec": {
   "display_name": "Python 3",
   "language": "python",
   "name": "python3"
  },
  "language_info": {
   "codemirror_mode": {
    "name": "ipython",
    "version": 3
   },
   "file_extension": ".py",
   "mimetype": "text/x-python",
   "name": "python",
   "nbconvert_exporter": "python",
   "pygments_lexer": "ipython3",
   "version": "3.9.4"
  },
  "orig_nbformat": 4
 },
 "nbformat": 4,
 "nbformat_minor": 2
}
